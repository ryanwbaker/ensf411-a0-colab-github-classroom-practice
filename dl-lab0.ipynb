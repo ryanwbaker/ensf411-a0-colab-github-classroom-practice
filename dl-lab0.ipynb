{
  "cells": [
    {
      "cell_type": "markdown",
      "metadata": {
        "id": "X4OYE1fVaNu3"
      },
      "source": [
        "Author: RYAN BAKER"
      ]
    },
    {
      "cell_type": "code",
      "execution_count": 1,
      "metadata": {
        "colab": {
          "base_uri": "https://localhost:8080/"
        },
        "id": "KXpWDIsPaNu6",
        "outputId": "d3024c69-fe6f-47c0-a17f-2d5029f87f5d"
      },
      "outputs": [
        {
          "name": "stdout",
          "output_type": "stream",
          "text": [
            "\u001b[K     |████████████████████████████████| 720 kB 13.1 MB/s \n",
            "\u001b[K     |████████████████████████████████| 189 kB 59.6 MB/s \n",
            "\u001b[K     |████████████████████████████████| 46 kB 4.7 MB/s \n",
            "\u001b[K     |████████████████████████████████| 1.2 MB 52.8 MB/s \n",
            "\u001b[K     |████████████████████████████████| 56 kB 5.3 MB/s \n",
            "\u001b[K     |████████████████████████████████| 51 kB 386 kB/s \n",
            "\u001b[?25h"
          ]
        }
      ],
      "source": [
        "# On colab: Install fastbook, fastai, and dependencies\n",
        "!pip install -Uqq fastbook"
      ]
    },
    {
      "cell_type": "code",
      "execution_count": 3,
      "metadata": {
        "colab": {
          "base_uri": "https://localhost:8080/"
        },
        "id": "NqdjtbvzaNu7",
        "outputId": "48c84a8b-8ba4-482d-c724-359b74759ddb"
      },
      "outputs": [
        {
          "name": "stdout",
          "output_type": "stream",
          "text": [
            "Python version: 3.7.12 (default, Sep 10 2021, 00:21:48) \n",
            "[GCC 7.5.0]\n",
            "PyTorch version: 1.10.0+cu111\n",
            "Fastai version: 2.5.3\n",
            "Fastbook version: 0.0.18\n"
          ]
        }
      ],
      "source": [
        "# On colab: paste code to display versions here and run cell\n",
        "import sys\n",
        "print(\"Python version:\", sys.version)\n",
        "\n",
        "import torch\n",
        "print(\"PyTorch version:\", torch.__version__)\n",
        "    \n",
        "import fastai\n",
        "print(\"Fastai version:\", fastai.__version__)\n",
        "\n",
        "import fastbook\n",
        "print(\"Fastbook version:\", fastbook.__version__)"
      ]
    },
    {
      "cell_type": "code",
      "execution_count": 2,
      "metadata": {
        "id": "RqzoGc1HaNu7"
      },
      "outputs": [
        {
          "name": "stdout",
          "output_type": "stream",
          "text": [
            "Python version: 3.9.7 (default, Sep 16 2021, 16:59:28) [MSC v.1916 64 bit (AMD64)]\n",
            "PyTorch version: 1.10.1+cpu\n",
            "Fastai version: 2.5.3\n",
            "Fastbook version: 0.0.18\n"
          ]
        }
      ],
      "source": [
        "# On local machine: paste code to display versions here and run cell\n",
        "import sys\n",
        "print(\"Python version:\", sys.version)\n",
        "\n",
        "import torch\n",
        "print(\"PyTorch version:\", torch.__version__)\n",
        "    \n",
        "import fastai\n",
        "print(\"Fastai version:\", fastai.__version__)\n",
        "\n",
        "import fastbook\n",
        "print(\"Fastbook version:\", fastbook.__version__)"
      ]
    },
    {
      "cell_type": "markdown",
      "metadata": {
        "id": "rqWVqFq1aNu8"
      },
      "source": [
        "## Reflection\n",
        "Include:\n",
        "- Something you are excited about learning in this course.\n",
        "- Potential difficulties you anticipate."
      ]
    },
    {
      "cell_type": "markdown",
      "metadata": {
        "id": "JvbBPNyXaNu8"
      },
      "source": [
        "*YOUR ANSWER HERE*\n",
        "- I'm very excited to learn about deep learning techniques and all that can be done with deep learning.\n",
        "- I'm hoping we can also explore \"deep fakes\" and how we could maybe make our own deep fakes.\n",
        "- I anticipate lots of difficulty with the various mediums (google colab, local machines, etc). This is probably a difficulty that will rectify itself after the first or second lab (when there we've had some practice with the new environment)."
      ]
    }
  ],
  "metadata": {
    "colab": {
      "name": "dl-lab0.ipynb",
      "provenance": []
    },
    "kernelspec": {
      "display_name": "Python 3 (ipykernel)",
      "language": "python",
      "name": "python3"
    },
    "language_info": {
      "codemirror_mode": {
        "name": "ipython",
        "version": 3
      },
      "file_extension": ".py",
      "mimetype": "text/x-python",
      "name": "python",
      "nbconvert_exporter": "python",
      "pygments_lexer": "ipython3",
      "version": "3.9.7"
    }
  },
  "nbformat": 4,
  "nbformat_minor": 0
}
